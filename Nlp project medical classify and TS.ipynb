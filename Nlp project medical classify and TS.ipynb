{
 "cells": [
  {
   "cell_type": "code",
   "execution_count": 1,
   "id": "7aefc497-1b9c-451b-828d-47f640542e8e",
   "metadata": {},
   "outputs": [
    {
     "name": "stderr",
     "output_type": "stream",
     "text": [
      "[nltk_data] Downloading package stopwords to\n",
      "[nltk_data]     C:\\Users\\akhil\\AppData\\Roaming\\nltk_data...\n",
      "[nltk_data]   Package stopwords is already up-to-date!\n",
      "[nltk_data] Downloading package punkt to\n",
      "[nltk_data]     C:\\Users\\akhil\\AppData\\Roaming\\nltk_data...\n",
      "[nltk_data]   Package punkt is already up-to-date!\n",
      "C:\\Users\\akhil\\AppData\\Local\\Temp\\ipykernel_24460\\1815169688.py:6: DeprecationWarning: \n",
      "Pyarrow will become a required dependency of pandas in the next major release of pandas (pandas 3.0),\n",
      "(to allow more performant data types, such as the Arrow string type, and better interoperability with other libraries)\n",
      "but was not found to be installed on your system.\n",
      "If this would cause problems for you,\n",
      "please provide us feedback at https://github.com/pandas-dev/pandas/issues/54466\n",
      "        \n",
      "  import pandas as pd\n"
     ]
    }
   ],
   "source": [
    "import nltk\n",
    "from nltk.corpus import stopwords\n",
    "from nltk.tokenize import sent_tokenize,word_tokenize\n",
    "nltk.download('stopwords')\n",
    "nltk.download('punkt')\n",
    "import pandas as pd \n",
    "import numpy as np\n",
    "import matplotlib.pyplot as plt\n",
    "import seaborn as sns\n",
    "import os\n",
    "import torch\n",
    "\n",
    "%matplotlib inline"
   ]
  },
  {
   "cell_type": "code",
   "execution_count": 2,
   "id": "ed6412bc-b659-4456-a346-7a65650a0489",
   "metadata": {},
   "outputs": [
    {
     "name": "stdout",
     "output_type": "stream",
     "text": [
      "{'only', 'so', 'at', 'was', 'into', \"didn't\", 'more', 'when', 'am', 'doing', 'the', 'against', 'now', 'aren', 'haven', 'yours', 'such', 'while', 'between', 'hadn', 'isn', \"wouldn't\", 'couldn', 'd', \"doesn't\", 'who', 'why', \"shan't\", 'didn', 'is', 'their', 'on', 'own', 'don', 'o', 'she', 'same', 'his', 'ma', 'but', \"it's\", 'hasn', \"don't\", 'shan', 'where', 'again', 'yourselves', 'no', 'm', \"should've\", 'under', 'some', 'i', 'me', 'be', \"she's\", 'above', 'should', \"mustn't\", 'which', 'these', 'll', 'below', 'has', 'up', \"you've\", 'they', 'because', 'can', 'with', \"weren't\", 'doesn', 'both', 'nor', \"wasn't\", 'them', 'that', 'once', 'by', 'wouldn', 'themselves', 'and', \"hadn't\", 's', 'than', 'there', 'hers', 'out', 'herself', \"shouldn't\", 'weren', 'during', 'how', 'her', 'myself', 'ours', \"mightn't\", 'my', 'an', 'just', 've', \"you'll\", 'yourself', 'ain', \"isn't\", 'y', 'each', 'those', 'too', 'are', 'here', \"you'd\", 'any', 'all', 'you', 'whom', 'your', 'being', 'if', 'he', 'wasn', 'were', 'do', \"that'll\", \"aren't\", 'then', 'a', 'to', 'having', 't', \"haven't\", 'after', 'mightn', \"won't\", 'will', 'we', 'him', 're', 'in', 'been', 'other', 'ourselves', \"you're\", 'it', 'had', 'as', \"hasn't\", 'needn', 'its', \"couldn't\", 'won', 'theirs', 'this', 'or', \"needn't\", 'down', 'very', 'mustn', 'from', 'not', 'have', 'further', 'shouldn', 'over', 'through', 'most', 'off', 'does', 'for', 'about', 'did', 'until', 'before', 'itself', 'few', 'himself', 'our', 'of', 'what'}\n"
     ]
    }
   ],
   "source": [
    "stopwords = set(stopwords.words('english'))\n",
    "print(stopwords)"
   ]
  },
  {
   "cell_type": "code",
   "execution_count": 3,
   "id": "d84ba7d4-dd64-462c-b5ac-b06ac7bb54f8",
   "metadata": {},
   "outputs": [
    {
     "data": {
      "text/html": [
       "<div>\n",
       "<style scoped>\n",
       "    .dataframe tbody tr th:only-of-type {\n",
       "        vertical-align: middle;\n",
       "    }\n",
       "\n",
       "    .dataframe tbody tr th {\n",
       "        vertical-align: top;\n",
       "    }\n",
       "\n",
       "    .dataframe thead th {\n",
       "        text-align: right;\n",
       "    }\n",
       "</style>\n",
       "<table border=\"1\" class=\"dataframe\">\n",
       "  <thead>\n",
       "    <tr style=\"text-align: right;\">\n",
       "      <th></th>\n",
       "      <th>Unnamed: 0</th>\n",
       "      <th>description</th>\n",
       "      <th>medical_specialty</th>\n",
       "      <th>sample_name</th>\n",
       "      <th>transcription</th>\n",
       "      <th>keywords</th>\n",
       "    </tr>\n",
       "  </thead>\n",
       "  <tbody>\n",
       "    <tr>\n",
       "      <th>0</th>\n",
       "      <td>0</td>\n",
       "      <td>A 23-year-old white female presents with comp...</td>\n",
       "      <td>Allergy / Immunology</td>\n",
       "      <td>Allergic Rhinitis</td>\n",
       "      <td>SUBJECTIVE:,  This 23-year-old white female pr...</td>\n",
       "      <td>allergy / immunology, allergic rhinitis, aller...</td>\n",
       "    </tr>\n",
       "    <tr>\n",
       "      <th>1</th>\n",
       "      <td>1</td>\n",
       "      <td>Consult for laparoscopic gastric bypass.</td>\n",
       "      <td>Bariatrics</td>\n",
       "      <td>Laparoscopic Gastric Bypass Consult - 2</td>\n",
       "      <td>PAST MEDICAL HISTORY:, He has difficulty climb...</td>\n",
       "      <td>bariatrics, laparoscopic gastric bypass, weigh...</td>\n",
       "    </tr>\n",
       "    <tr>\n",
       "      <th>2</th>\n",
       "      <td>2</td>\n",
       "      <td>Consult for laparoscopic gastric bypass.</td>\n",
       "      <td>Bariatrics</td>\n",
       "      <td>Laparoscopic Gastric Bypass Consult - 1</td>\n",
       "      <td>HISTORY OF PRESENT ILLNESS: , I have seen ABC ...</td>\n",
       "      <td>bariatrics, laparoscopic gastric bypass, heart...</td>\n",
       "    </tr>\n",
       "    <tr>\n",
       "      <th>3</th>\n",
       "      <td>3</td>\n",
       "      <td>2-D M-Mode. Doppler.</td>\n",
       "      <td>Cardiovascular / Pulmonary</td>\n",
       "      <td>2-D Echocardiogram - 1</td>\n",
       "      <td>2-D M-MODE: , ,1.  Left atrial enlargement wit...</td>\n",
       "      <td>cardiovascular / pulmonary, 2-d m-mode, dopple...</td>\n",
       "    </tr>\n",
       "    <tr>\n",
       "      <th>4</th>\n",
       "      <td>4</td>\n",
       "      <td>2-D Echocardiogram</td>\n",
       "      <td>Cardiovascular / Pulmonary</td>\n",
       "      <td>2-D Echocardiogram - 2</td>\n",
       "      <td>1.  The left ventricular cavity size and wall ...</td>\n",
       "      <td>cardiovascular / pulmonary, 2-d, doppler, echo...</td>\n",
       "    </tr>\n",
       "  </tbody>\n",
       "</table>\n",
       "</div>"
      ],
      "text/plain": [
       "   Unnamed: 0                                        description  \\\n",
       "0           0   A 23-year-old white female presents with comp...   \n",
       "1           1           Consult for laparoscopic gastric bypass.   \n",
       "2           2           Consult for laparoscopic gastric bypass.   \n",
       "3           3                             2-D M-Mode. Doppler.     \n",
       "4           4                                 2-D Echocardiogram   \n",
       "\n",
       "             medical_specialty                                sample_name  \\\n",
       "0         Allergy / Immunology                         Allergic Rhinitis    \n",
       "1                   Bariatrics   Laparoscopic Gastric Bypass Consult - 2    \n",
       "2                   Bariatrics   Laparoscopic Gastric Bypass Consult - 1    \n",
       "3   Cardiovascular / Pulmonary                    2-D Echocardiogram - 1    \n",
       "4   Cardiovascular / Pulmonary                    2-D Echocardiogram - 2    \n",
       "\n",
       "                                       transcription  \\\n",
       "0  SUBJECTIVE:,  This 23-year-old white female pr...   \n",
       "1  PAST MEDICAL HISTORY:, He has difficulty climb...   \n",
       "2  HISTORY OF PRESENT ILLNESS: , I have seen ABC ...   \n",
       "3  2-D M-MODE: , ,1.  Left atrial enlargement wit...   \n",
       "4  1.  The left ventricular cavity size and wall ...   \n",
       "\n",
       "                                            keywords  \n",
       "0  allergy / immunology, allergic rhinitis, aller...  \n",
       "1  bariatrics, laparoscopic gastric bypass, weigh...  \n",
       "2  bariatrics, laparoscopic gastric bypass, heart...  \n",
       "3  cardiovascular / pulmonary, 2-d m-mode, dopple...  \n",
       "4  cardiovascular / pulmonary, 2-d, doppler, echo...  "
      ]
     },
     "execution_count": 3,
     "metadata": {},
     "output_type": "execute_result"
    }
   ],
   "source": [
    "df = pd.read_csv(r\"C:\\Users\\akhil\\Downloads\\archive (4)\\mtsamples.csv\")\n",
    "df.head()"
   ]
  },
  {
   "cell_type": "code",
   "execution_count": 4,
   "id": "6ed8dd27-28ec-4b6f-86b5-24feaa8f8ca8",
   "metadata": {},
   "outputs": [
    {
     "data": {
      "text/plain": [
       "(4999, 6)"
      ]
     },
     "execution_count": 4,
     "metadata": {},
     "output_type": "execute_result"
    }
   ],
   "source": [
    "df.shape"
   ]
  },
  {
   "cell_type": "code",
   "execution_count": 5,
   "id": "0de3e39d-ce19-4ef0-b19d-72155fa57193",
   "metadata": {},
   "outputs": [
    {
     "data": {
      "text/plain": [
       "0       SUBJECTIVE:,  This 23-year-old white female pr...\n",
       "1       PAST MEDICAL HISTORY:, He has difficulty climb...\n",
       "2       HISTORY OF PRESENT ILLNESS: , I have seen ABC ...\n",
       "3       2-D M-MODE: , ,1.  Left atrial enlargement wit...\n",
       "4       1.  The left ventricular cavity size and wall ...\n",
       "                              ...                        \n",
       "4994    HISTORY:,  I had the pleasure of meeting and e...\n",
       "4995    ADMITTING DIAGNOSIS: , Kawasaki disease.,DISCH...\n",
       "4996    SUBJECTIVE: , This is a 42-year-old white fema...\n",
       "4997    CHIEF COMPLAINT: , This 5-year-old male presen...\n",
       "4998    HISTORY: , A 34-year-old male presents today s...\n",
       "Name: transcription, Length: 4999, dtype: object"
      ]
     },
     "execution_count": 5,
     "metadata": {},
     "output_type": "execute_result"
    }
   ],
   "source": [
    "transcript_text = df['transcription']\n",
    "transcript_text"
   ]
  },
  {
   "cell_type": "code",
   "execution_count": 6,
   "id": "87f62dcc-50f3-44a9-8a48-7541302dc069",
   "metadata": {},
   "outputs": [
    {
     "name": "stdout",
     "output_type": "stream",
     "text": [
      "HISTORY OF PRESENT ILLNESS: , I have seen ABC today.  He is a very pleasant gentleman who is 42 years old, 344 pounds.  He is 5'9\".  He has a BMI of 51.  He has been overweight for ten years since the age of 33, at his highest he was 358 pounds, at his lowest 260.  He is pursuing surgical attempts of weight loss to feel good, get healthy, and begin to exercise again.  He wants to be able to exercise and play volleyball.  Physically, he is sluggish.  He gets tired quickly.  He does not go out often.  When he loses weight he always regains it and he gains back more than he lost.  His biggest weight loss is 25 pounds and it was three months before he gained it back.  He did six months of not drinking alcohol and not taking in many calories.  He has been on multiple commercial weight loss programs including Slim Fast for one month one year ago and Atkin's Diet for one month two years ago.,PAST MEDICAL HISTORY: , He has difficulty climbing stairs, difficulty with airline seats, tying shoes, used to public seating, difficulty walking, high cholesterol, and high blood pressure.  He has asthma and difficulty walking two blocks or going eight to ten steps.  He has sleep apnea and snoring.  He is a diabetic, on medication.  He has joint pain, knee pain, back pain, foot and ankle pain, leg and foot swelling.  He has hemorrhoids.,PAST SURGICAL HISTORY: , Includes orthopedic or knee surgery.,SOCIAL HISTORY: , He is currently single.  He drinks alcohol ten to twelve drinks a week, but does not drink five days a week and then will binge drink.  He smokes one and a half pack a day for 15 years, but he has recently stopped smoking for the past two weeks.,FAMILY HISTORY: , Obesity, heart disease, and diabetes.  Family history is negative for hypertension and stroke.,CURRENT MEDICATIONS:,  Include Diovan, Crestor, and Tricor.,MISCELLANEOUS/EATING HISTORY:  ,He says a couple of friends of his have had heart attacks and have had died.  He used to drink everyday, but stopped two years ago.  He now only drinks on weekends.  He is on his second week of Chantix, which is a medication to come off smoking completely.  Eating, he eats bad food.  He is single.  He eats things like bacon, eggs, and cheese, cheeseburgers, fast food, eats four times a day, seven in the morning, at noon, 9 p.m., and 2 a.m.  He currently weighs 344 pounds and 5'9\".  His ideal body weight is 160 pounds.  He is 184 pounds overweight.  If he lost 70% of his excess body weight that would be 129 pounds and that would get him down to 215.,REVIEW OF SYSTEMS: , Negative for head, neck, heart, lungs, GI, GU, orthopedic, or skin.  He also is positive for gout.  He denies chest pain, heart attack, coronary artery disease, congestive heart failure, arrhythmia, atrial fibrillation, pacemaker, pulmonary embolism, or CVA.  He denies venous insufficiency or thrombophlebitis.  Denies shortness of breath, COPD, or emphysema.  Denies thyroid problems, hip pain, osteoarthritis, rheumatoid arthritis, GERD, hiatal hernia, peptic ulcer disease, gallstones, infected gallbladder, pancreatitis, fatty liver, hepatitis, rectal bleeding, polyps, incontinence of stool, urinary stress incontinence, or cancer.  He denies cellulitis, pseudotumor cerebri, meningitis, or encephalitis.,PHYSICAL EXAMINATION:  ,He is alert and oriented x 3.  Cranial nerves II-XII are intact.  Neck is soft and supple.  Lungs:  He has positive wheezing bilaterally.  Heart is regular rhythm and rate.  His abdomen is soft.  Extremities:  He has 1+ pitting edema.,IMPRESSION/PLAN:,  I have explained to him the risks and potential complications of laparoscopic gastric bypass in detail and these include bleeding, infection, deep venous thrombosis, pulmonary embolism, leakage from the gastrojejuno-anastomosis, jejunojejuno-anastomosis, and possible bowel obstruction among other potential complications.  He understands.  He wants to proceed with workup and evaluation for laparoscopic Roux-en-Y gastric bypass.  He will need to get a letter of approval from Dr. XYZ.  He will need to see a nutritionist and mental health worker.  He will need an upper endoscopy by either Dr. XYZ.  He will need to go to Dr. XYZ as he previously had a sleep study.  We will need another sleep study.  He will need H. pylori testing, thyroid function tests, LFTs, glycosylated hemoglobin, and fasting blood sugar.  After this is performed, we will submit him for insurance approval.\n"
     ]
    }
   ],
   "source": [
    "transcript_ls = []\n",
    "for index,row in df.head().iterrows():\n",
    "    transcript_ls.append(row['transcription'])\n",
    "print(transcript_ls[2])"
   ]
  },
  {
   "cell_type": "code",
   "execution_count": 7,
   "id": "ef12515c-2514-447a-8be4-22d5d5471434",
   "metadata": {},
   "outputs": [
    {
     "name": "stdout",
     "output_type": "stream",
     "text": [
      "['HISTORY', 'OF', 'PRESENT', 'ILLNESS', ':', ',', 'I', 'have', 'seen', 'ABC', 'today', '.', 'He', 'is', 'a', 'very', 'pleasant', 'gentleman', 'who', 'is', '42', 'years', 'old', ',', '344', 'pounds', '.', 'He', 'is', '5', \"'\", '9', \"''\", '.', 'He', 'has', 'a', 'BMI', 'of', '51', '.', 'He', 'has', 'been', 'overweight', 'for', 'ten', 'years', 'since', 'the', 'age', 'of', '33', ',', 'at', 'his', 'highest', 'he', 'was', '358', 'pounds', ',', 'at', 'his', 'lowest', '260', '.', 'He', 'is', 'pursuing', 'surgical', 'attempts', 'of', 'weight', 'loss', 'to', 'feel', 'good', ',', 'get', 'healthy', ',', 'and', 'begin', 'to', 'exercise', 'again', '.', 'He', 'wants', 'to', 'be', 'able', 'to', 'exercise', 'and', 'play', 'volleyball', '.', 'Physically', ',', 'he', 'is', 'sluggish', '.', 'He', 'gets', 'tired', 'quickly', '.', 'He', 'does', 'not', 'go', 'out', 'often', '.', 'When', 'he', 'loses', 'weight', 'he', 'always', 'regains', 'it', 'and', 'he', 'gains', 'back', 'more', 'than', 'he', 'lost', '.', 'His', 'biggest', 'weight', 'loss', 'is', '25', 'pounds', 'and', 'it', 'was', 'three', 'months', 'before', 'he', 'gained', 'it', 'back', '.', 'He', 'did', 'six', 'months', 'of', 'not', 'drinking', 'alcohol', 'and', 'not', 'taking', 'in', 'many', 'calories', '.', 'He', 'has', 'been', 'on', 'multiple', 'commercial', 'weight', 'loss', 'programs', 'including', 'Slim', 'Fast', 'for', 'one', 'month', 'one', 'year', 'ago', 'and', 'Atkin', \"'s\", 'Diet', 'for', 'one', 'month', 'two', 'years', 'ago.', ',', 'PAST', 'MEDICAL', 'HISTORY', ':', ',', 'He', 'has', 'difficulty', 'climbing', 'stairs', ',', 'difficulty', 'with', 'airline', 'seats', ',', 'tying', 'shoes', ',', 'used', 'to', 'public', 'seating', ',', 'difficulty', 'walking', ',', 'high', 'cholesterol', ',', 'and', 'high', 'blood', 'pressure', '.', 'He', 'has', 'asthma', 'and', 'difficulty', 'walking', 'two', 'blocks', 'or', 'going', 'eight', 'to', 'ten', 'steps', '.', 'He', 'has', 'sleep', 'apnea', 'and', 'snoring', '.', 'He', 'is', 'a', 'diabetic', ',', 'on', 'medication', '.', 'He', 'has', 'joint', 'pain', ',', 'knee', 'pain', ',', 'back', 'pain', ',', 'foot', 'and', 'ankle', 'pain', ',', 'leg', 'and', 'foot', 'swelling', '.', 'He', 'has', 'hemorrhoids.', ',', 'PAST', 'SURGICAL', 'HISTORY', ':', ',', 'Includes', 'orthopedic', 'or', 'knee', 'surgery.', ',', 'SOCIAL', 'HISTORY', ':', ',', 'He', 'is', 'currently', 'single', '.', 'He', 'drinks', 'alcohol', 'ten', 'to', 'twelve', 'drinks', 'a', 'week', ',', 'but', 'does', 'not', 'drink', 'five', 'days', 'a', 'week', 'and', 'then', 'will', 'binge', 'drink', '.', 'He', 'smokes', 'one', 'and', 'a', 'half', 'pack', 'a', 'day', 'for', '15', 'years', ',', 'but', 'he', 'has', 'recently', 'stopped', 'smoking', 'for', 'the', 'past', 'two', 'weeks.', ',', 'FAMILY', 'HISTORY', ':', ',', 'Obesity', ',', 'heart', 'disease', ',', 'and', 'diabetes', '.', 'Family', 'history', 'is', 'negative', 'for', 'hypertension', 'and', 'stroke.', ',', 'CURRENT', 'MEDICATIONS', ':', ',', 'Include', 'Diovan', ',', 'Crestor', ',', 'and', 'Tricor.', ',', 'MISCELLANEOUS/EATING', 'HISTORY', ':', ',', 'He', 'says', 'a', 'couple', 'of', 'friends', 'of', 'his', 'have', 'had', 'heart', 'attacks', 'and', 'have', 'had', 'died', '.', 'He', 'used', 'to', 'drink', 'everyday', ',', 'but', 'stopped', 'two', 'years', 'ago', '.', 'He', 'now', 'only', 'drinks', 'on', 'weekends', '.', 'He', 'is', 'on', 'his', 'second', 'week', 'of', 'Chantix', ',', 'which', 'is', 'a', 'medication', 'to', 'come', 'off', 'smoking', 'completely', '.', 'Eating', ',', 'he', 'eats', 'bad', 'food', '.', 'He', 'is', 'single', '.', 'He', 'eats', 'things', 'like', 'bacon', ',', 'eggs', ',', 'and', 'cheese', ',', 'cheeseburgers', ',', 'fast', 'food', ',', 'eats', 'four', 'times', 'a', 'day', ',', 'seven', 'in', 'the', 'morning', ',', 'at', 'noon', ',', '9', 'p.m.', ',', 'and', '2', 'a.m', '.', 'He', 'currently', 'weighs', '344', 'pounds', 'and', '5', \"'\", '9', \"''\", '.', 'His', 'ideal', 'body', 'weight', 'is', '160', 'pounds', '.', 'He', 'is', '184', 'pounds', 'overweight', '.', 'If', 'he', 'lost', '70', '%', 'of', 'his', 'excess', 'body', 'weight', 'that', 'would', 'be', '129', 'pounds', 'and', 'that', 'would', 'get', 'him', 'down', 'to', '215.', ',', 'REVIEW', 'OF', 'SYSTEMS', ':', ',', 'Negative', 'for', 'head', ',', 'neck', ',', 'heart', ',', 'lungs', ',', 'GI', ',', 'GU', ',', 'orthopedic', ',', 'or', 'skin', '.', 'He', 'also', 'is', 'positive', 'for', 'gout', '.', 'He', 'denies', 'chest', 'pain', ',', 'heart', 'attack', ',', 'coronary', 'artery', 'disease', ',', 'congestive', 'heart', 'failure', ',', 'arrhythmia', ',', 'atrial', 'fibrillation', ',', 'pacemaker', ',', 'pulmonary', 'embolism', ',', 'or', 'CVA', '.', 'He', 'denies', 'venous', 'insufficiency', 'or', 'thrombophlebitis', '.', 'Denies', 'shortness', 'of', 'breath', ',', 'COPD', ',', 'or', 'emphysema', '.', 'Denies', 'thyroid', 'problems', ',', 'hip', 'pain', ',', 'osteoarthritis', ',', 'rheumatoid', 'arthritis', ',', 'GERD', ',', 'hiatal', 'hernia', ',', 'peptic', 'ulcer', 'disease', ',', 'gallstones', ',', 'infected', 'gallbladder', ',', 'pancreatitis', ',', 'fatty', 'liver', ',', 'hepatitis', ',', 'rectal', 'bleeding', ',', 'polyps', ',', 'incontinence', 'of', 'stool', ',', 'urinary', 'stress', 'incontinence', ',', 'or', 'cancer', '.', 'He', 'denies', 'cellulitis', ',', 'pseudotumor', 'cerebri', ',', 'meningitis', ',', 'or', 'encephalitis.', ',', 'PHYSICAL', 'EXAMINATION', ':', ',', 'He', 'is', 'alert', 'and', 'oriented', 'x', '3', '.', 'Cranial', 'nerves', 'II-XII', 'are', 'intact', '.', 'Neck', 'is', 'soft', 'and', 'supple', '.', 'Lungs', ':', 'He', 'has', 'positive', 'wheezing', 'bilaterally', '.', 'Heart', 'is', 'regular', 'rhythm', 'and', 'rate', '.', 'His', 'abdomen', 'is', 'soft', '.', 'Extremities', ':', 'He', 'has', '1+', 'pitting', 'edema.', ',', 'IMPRESSION/PLAN', ':', ',', 'I', 'have', 'explained', 'to', 'him', 'the', 'risks', 'and', 'potential', 'complications', 'of', 'laparoscopic', 'gastric', 'bypass', 'in', 'detail', 'and', 'these', 'include', 'bleeding', ',', 'infection', ',', 'deep', 'venous', 'thrombosis', ',', 'pulmonary', 'embolism', ',', 'leakage', 'from', 'the', 'gastrojejuno-anastomosis', ',', 'jejunojejuno-anastomosis', ',', 'and', 'possible', 'bowel', 'obstruction', 'among', 'other', 'potential', 'complications', '.', 'He', 'understands', '.', 'He', 'wants', 'to', 'proceed', 'with', 'workup', 'and', 'evaluation', 'for', 'laparoscopic', 'Roux-en-Y', 'gastric', 'bypass', '.', 'He', 'will', 'need', 'to', 'get', 'a', 'letter', 'of', 'approval', 'from', 'Dr.', 'XYZ', '.', 'He', 'will', 'need', 'to', 'see', 'a', 'nutritionist', 'and', 'mental', 'health', 'worker', '.', 'He', 'will', 'need', 'an', 'upper', 'endoscopy', 'by', 'either', 'Dr.', 'XYZ', '.', 'He', 'will', 'need', 'to', 'go', 'to', 'Dr.', 'XYZ', 'as', 'he', 'previously', 'had', 'a', 'sleep', 'study', '.', 'We', 'will', 'need', 'another', 'sleep', 'study', '.', 'He', 'will', 'need', 'H.', 'pylori', 'testing', ',', 'thyroid', 'function', 'tests', ',', 'LFTs', ',', 'glycosylated', 'hemoglobin', ',', 'and', 'fasting', 'blood', 'sugar', '.', 'After', 'this', 'is', 'performed', ',', 'we', 'will', 'submit', 'him', 'for', 'insurance', 'approval', '.']\n"
     ]
    }
   ],
   "source": [
    "text = transcript_ls[2]\n",
    "words = word_tokenize(text)\n",
    "print(words)"
   ]
  },
  {
   "cell_type": "code",
   "execution_count": 8,
   "id": "0479ffe0-2662-4160-901c-6679d594415a",
   "metadata": {},
   "outputs": [
    {
     "name": "stdout",
     "output_type": "stream",
     "text": [
      "{'history': 7, 'present': 1, 'illness': 1, ':': 12, ',': 101, 'seen': 1, 'abc': 1, 'today': 1, '.': 53, 'pleasant': 1, 'gentleman': 1, '42': 1, 'years': 5, 'old': 1, '344': 2, 'pounds': 7, '5': 2, \"'\": 2, '9': 3, \"''\": 2, 'bmi': 1, '51': 1, 'overweight': 2, 'ten': 3, 'since': 1, 'age': 1, '33': 1, 'highest': 1, '358': 1, 'lowest': 1, '260': 1, 'pursuing': 1, 'surgical': 2, 'attempts': 1, 'weight': 6, 'loss': 3, 'feel': 1, 'good': 1, 'get': 3, 'healthy': 1, 'begin': 1, 'exercise': 2, 'wants': 2, 'able': 1, 'play': 1, 'volleyball': 1, 'physically': 1, 'sluggish': 1, 'gets': 1, 'tired': 1, 'quickly': 1, 'go': 2, 'often': 1, 'loses': 1, 'always': 1, 'regains': 1, 'gains': 1, 'back': 3, 'lost': 2, 'biggest': 1, '25': 1, 'three': 1, 'months': 2, 'gained': 1, 'six': 1, 'drinking': 1, 'alcohol': 2, 'taking': 1, 'many': 1, 'calories': 1, 'multiple': 1, 'commercial': 1, 'programs': 1, 'including': 1, 'slim': 1, 'fast': 2, 'one': 4, 'month': 2, 'year': 1, 'ago': 2, 'atkin': 1, \"'s\": 1, 'diet': 1, 'two': 4, 'ago.': 1, 'past': 3, 'medical': 1, 'difficulty': 4, 'climbing': 1, 'stairs': 1, 'airline': 1, 'seats': 1, 'tying': 1, 'shoes': 1, 'used': 2, 'public': 1, 'seating': 1, 'walking': 2, 'high': 2, 'cholesterol': 1, 'blood': 2, 'pressure': 1, 'asthma': 1, 'blocks': 1, 'going': 1, 'eight': 1, 'steps': 1, 'sleep': 3, 'apnea': 1, 'snoring': 1, 'diabetic': 1, 'medication': 2, 'joint': 1, 'pain': 6, 'knee': 2, 'foot': 2, 'ankle': 1, 'leg': 1, 'swelling': 1, 'hemorrhoids.': 1, 'includes': 1, 'orthopedic': 2, 'surgery.': 1, 'social': 1, 'currently': 2, 'single': 2, 'drinks': 3, 'twelve': 1, 'week': 3, 'drink': 3, 'five': 1, 'days': 1, 'binge': 1, 'smokes': 1, 'half': 1, 'pack': 1, 'day': 2, '15': 1, 'recently': 1, 'stopped': 2, 'smoking': 2, 'weeks.': 1, 'family': 2, 'obesity': 1, 'heart': 6, 'disease': 3, 'diabetes': 1, 'negative': 2, 'hypertension': 1, 'stroke.': 1, 'current': 1, 'medications': 1, 'include': 2, 'diovan': 1, 'crestor': 1, 'tricor.': 1, 'miscellaneous/eating': 1, 'says': 1, 'couple': 1, 'friends': 1, 'attacks': 1, 'died': 1, 'everyday': 1, 'weekends': 1, 'second': 1, 'chantix': 1, 'come': 1, 'completely': 1, 'eating': 1, 'eats': 3, 'bad': 1, 'food': 2, 'things': 1, 'like': 1, 'bacon': 1, 'eggs': 1, 'cheese': 1, 'cheeseburgers': 1, 'four': 1, 'times': 1, 'seven': 1, 'morning': 1, 'noon': 1, 'p.m.': 1, '2': 1, 'a.m': 1, 'weighs': 1, 'ideal': 1, 'body': 2, '160': 1, '184': 1, '70': 1, '%': 1, 'excess': 1, 'would': 2, '129': 1, '215.': 1, 'review': 1, 'systems': 1, 'head': 1, 'neck': 2, 'lungs': 2, 'gi': 1, 'gu': 1, 'skin': 1, 'also': 1, 'positive': 2, 'gout': 1, 'denies': 5, 'chest': 1, 'attack': 1, 'coronary': 1, 'artery': 1, 'congestive': 1, 'failure': 1, 'arrhythmia': 1, 'atrial': 1, 'fibrillation': 1, 'pacemaker': 1, 'pulmonary': 2, 'embolism': 2, 'cva': 1, 'venous': 2, 'insufficiency': 1, 'thrombophlebitis': 1, 'shortness': 1, 'breath': 1, 'copd': 1, 'emphysema': 1, 'thyroid': 2, 'problems': 1, 'hip': 1, 'osteoarthritis': 1, 'rheumatoid': 1, 'arthritis': 1, 'gerd': 1, 'hiatal': 1, 'hernia': 1, 'peptic': 1, 'ulcer': 1, 'gallstones': 1, 'infected': 1, 'gallbladder': 1, 'pancreatitis': 1, 'fatty': 1, 'liver': 1, 'hepatitis': 1, 'rectal': 1, 'bleeding': 2, 'polyps': 1, 'incontinence': 2, 'stool': 1, 'urinary': 1, 'stress': 1, 'cancer': 1, 'cellulitis': 1, 'pseudotumor': 1, 'cerebri': 1, 'meningitis': 1, 'encephalitis.': 1, 'physical': 1, 'examination': 1, 'alert': 1, 'oriented': 1, 'x': 1, '3': 1, 'cranial': 1, 'nerves': 1, 'ii-xii': 1, 'intact': 1, 'soft': 2, 'supple': 1, 'wheezing': 1, 'bilaterally': 1, 'regular': 1, 'rhythm': 1, 'rate': 1, 'abdomen': 1, 'extremities': 1, '1+': 1, 'pitting': 1, 'edema.': 1, 'impression/plan': 1, 'explained': 1, 'risks': 1, 'potential': 2, 'complications': 2, 'laparoscopic': 2, 'gastric': 2, 'bypass': 2, 'detail': 1, 'infection': 1, 'deep': 1, 'thrombosis': 1, 'leakage': 1, 'gastrojejuno-anastomosis': 1, 'jejunojejuno-anastomosis': 1, 'possible': 1, 'bowel': 1, 'obstruction': 1, 'among': 1, 'understands': 1, 'proceed': 1, 'workup': 1, 'evaluation': 1, 'roux-en-y': 1, 'need': 6, 'letter': 1, 'approval': 2, 'dr.': 3, 'xyz': 3, 'see': 1, 'nutritionist': 1, 'mental': 1, 'health': 1, 'worker': 1, 'upper': 1, 'endoscopy': 1, 'either': 1, 'previously': 1, 'study': 2, 'another': 1, 'h.': 1, 'pylori': 1, 'testing': 1, 'function': 1, 'tests': 1, 'lfts': 1, 'glycosylated': 1, 'hemoglobin': 1, 'fasting': 1, 'sugar': 1, 'performed': 1, 'submit': 1, 'insurance': 1}\n"
     ]
    }
   ],
   "source": [
    "freq_count = dict()\n",
    "for word in words:\n",
    "    word = word.lower()\n",
    "    if word in stopwords:\n",
    "        continue\n",
    "    if word in freq_count:\n",
    "        freq_count[word] += 1\n",
    "    else:\n",
    "        freq_count[word] = 1 \n",
    "print(freq_count)"
   ]
  },
  {
   "cell_type": "code",
   "execution_count": 9,
   "id": "4c51687e-a3ac-43ae-9cc1-99cc8f689a7b",
   "metadata": {},
   "outputs": [
    {
     "name": "stdout",
     "output_type": "stream",
     "text": [
      "['HISTORY OF PRESENT ILLNESS: , I have seen ABC today.', 'He is a very pleasant gentleman who is 42 years old, 344 pounds.', 'He is 5\\'9\".', 'He has a BMI of 51.', 'He has been overweight for ten years since the age of 33, at his highest he was 358 pounds, at his lowest 260.', 'He is pursuing surgical attempts of weight loss to feel good, get healthy, and begin to exercise again.', 'He wants to be able to exercise and play volleyball.', 'Physically, he is sluggish.', 'He gets tired quickly.', 'He does not go out often.', 'When he loses weight he always regains it and he gains back more than he lost.', 'His biggest weight loss is 25 pounds and it was three months before he gained it back.', 'He did six months of not drinking alcohol and not taking in many calories.', \"He has been on multiple commercial weight loss programs including Slim Fast for one month one year ago and Atkin's Diet for one month two years ago.,PAST MEDICAL HISTORY: , He has difficulty climbing stairs, difficulty with airline seats, tying shoes, used to public seating, difficulty walking, high cholesterol, and high blood pressure.\", 'He has asthma and difficulty walking two blocks or going eight to ten steps.', 'He has sleep apnea and snoring.', 'He is a diabetic, on medication.', 'He has joint pain, knee pain, back pain, foot and ankle pain, leg and foot swelling.', 'He has hemorrhoids.,PAST SURGICAL HISTORY: , Includes orthopedic or knee surgery.,SOCIAL HISTORY: , He is currently single.', 'He drinks alcohol ten to twelve drinks a week, but does not drink five days a week and then will binge drink.', 'He smokes one and a half pack a day for 15 years, but he has recently stopped smoking for the past two weeks.,FAMILY HISTORY: , Obesity, heart disease, and diabetes.', 'Family history is negative for hypertension and stroke.,CURRENT MEDICATIONS:,  Include Diovan, Crestor, and Tricor.,MISCELLANEOUS/EATING HISTORY:  ,He says a couple of friends of his have had heart attacks and have had died.', 'He used to drink everyday, but stopped two years ago.', 'He now only drinks on weekends.', 'He is on his second week of Chantix, which is a medication to come off smoking completely.', 'Eating, he eats bad food.', 'He is single.', 'He eats things like bacon, eggs, and cheese, cheeseburgers, fast food, eats four times a day, seven in the morning, at noon, 9 p.m., and 2 a.m.', 'He currently weighs 344 pounds and 5\\'9\".', 'His ideal body weight is 160 pounds.', 'He is 184 pounds overweight.', 'If he lost 70% of his excess body weight that would be 129 pounds and that would get him down to 215.,REVIEW OF SYSTEMS: , Negative for head, neck, heart, lungs, GI, GU, orthopedic, or skin.', 'He also is positive for gout.', 'He denies chest pain, heart attack, coronary artery disease, congestive heart failure, arrhythmia, atrial fibrillation, pacemaker, pulmonary embolism, or CVA.', 'He denies venous insufficiency or thrombophlebitis.', 'Denies shortness of breath, COPD, or emphysema.', 'Denies thyroid problems, hip pain, osteoarthritis, rheumatoid arthritis, GERD, hiatal hernia, peptic ulcer disease, gallstones, infected gallbladder, pancreatitis, fatty liver, hepatitis, rectal bleeding, polyps, incontinence of stool, urinary stress incontinence, or cancer.', 'He denies cellulitis, pseudotumor cerebri, meningitis, or encephalitis.,PHYSICAL EXAMINATION:  ,He is alert and oriented x 3.', 'Cranial nerves II-XII are intact.', 'Neck is soft and supple.', 'Lungs:  He has positive wheezing bilaterally.', 'Heart is regular rhythm and rate.', 'His abdomen is soft.', 'Extremities:  He has 1+ pitting edema.,IMPRESSION/PLAN:,  I have explained to him the risks and potential complications of laparoscopic gastric bypass in detail and these include bleeding, infection, deep venous thrombosis, pulmonary embolism, leakage from the gastrojejuno-anastomosis, jejunojejuno-anastomosis, and possible bowel obstruction among other potential complications.', 'He understands.', 'He wants to proceed with workup and evaluation for laparoscopic Roux-en-Y gastric bypass.', 'He will need to get a letter of approval from Dr. XYZ.', 'He will need to see a nutritionist and mental health worker.', 'He will need an upper endoscopy by either Dr. XYZ.', 'He will need to go to Dr. XYZ as he previously had a sleep study.', 'We will need another sleep study.', 'He will need H. pylori testing, thyroid function tests, LFTs, glycosylated hemoglobin, and fasting blood sugar.', 'After this is performed, we will submit him for insurance approval.']\n"
     ]
    }
   ],
   "source": [
    "sentences = sent_tokenize(text)\n",
    "print(sentences)"
   ]
  },
  {
   "cell_type": "code",
   "execution_count": 10,
   "id": "5fffec1a-8269-4b30-b98b-367857258a79",
   "metadata": {},
   "outputs": [
    {
     "data": {
      "text/plain": [
       "'HISTORY OF PRESENT ILLNESS: , I have seen ABC today.'"
      ]
     },
     "execution_count": 10,
     "metadata": {},
     "output_type": "execute_result"
    }
   ],
   "source": [
    "sentences[0]"
   ]
  },
  {
   "cell_type": "code",
   "execution_count": 11,
   "id": "1267edd4-755c-427d-9587-e483d014f989",
   "metadata": {},
   "outputs": [
    {
     "name": "stdout",
     "output_type": "stream",
     "text": [
      "{'HISTORY OF PRESENT ILLNESS: , I have seen ABC today.': 181, 'He is a very pleasant gentleman who is 42 years old, 344 pounds.': 175, 'He is 5\\'9\".': 60, 'He has a BMI of 51.': 57, 'He has been overweight for ten years since the age of 33, at his highest he was 358 pounds, at his lowest 260.': 192, 'He is pursuing surgical attempts of weight loss to feel good, get healthy, and begin to exercise again.': 182, 'He wants to be able to exercise and play volleyball.': 61, 'Physically, he is sluggish.': 159, 'He gets tired quickly.': 59, 'He does not go out often.': 59, 'When he loses weight he always regains it and he gains back more than he lost.': 69, 'His biggest weight loss is 25 pounds and it was three months before he gained it back.': 84, 'He did six months of not drinking alcohol and not taking in many calories.': 68, \"He has been on multiple commercial weight loss programs including Slim Fast for one month one year ago and Atkin's Diet for one month two years ago.,PAST MEDICAL HISTORY: , He has difficulty climbing stairs, difficulty with airline seats, tying shoes, used to public seating, difficulty walking, high cholesterol, and high blood pressure.\": 246, 'He has asthma and difficulty walking two blocks or going eight to ten steps.': 73, 'He has sleep apnea and snoring.': 58, 'He is a diabetic, on medication.': 157, 'He has joint pain, knee pain, back pain, foot and ankle pain, leg and foot swelling.': 171, 'He has hemorrhoids.,PAST SURGICAL HISTORY: , Includes orthopedic or knee surgery.,SOCIAL HISTORY: , He is currently single.': 194, 'He drinks alcohol ten to twelve drinks a week, but does not drink five days a week and then will binge drink.': 174, 'He smokes one and a half pack a day for 15 years, but he has recently stopped smoking for the past two weeks.,FAMILY HISTORY: , Obesity, heart disease, and diabetes.': 220, 'Family history is negative for hypertension and stroke.,CURRENT MEDICATIONS:,  Include Diovan, Crestor, and Tricor.,MISCELLANEOUS/EATING HISTORY:  ,He says a couple of friends of his have had heart attacks and have had died.': 205, 'He used to drink everyday, but stopped two years ago.': 179, 'He now only drinks on weekends.': 63, 'He is on his second week of Chantix, which is a medication to come off smoking completely.': 166, 'Eating, he eats bad food.': 161, 'He is single.': 55, 'He eats things like bacon, eggs, and cheese, cheeseburgers, fast food, eats four times a day, seven in the morning, at noon, 9 p.m., and 2 a.m.': 180, 'He currently weighs 344 pounds and 5\\'9\".': 74, 'His ideal body weight is 160 pounds.': 71, 'He is 184 pounds overweight.': 70, 'If he lost 70% of his excess body weight that would be 129 pounds and that would get him down to 215.,REVIEW OF SYSTEMS: , Negative for head, neck, heart, lungs, GI, GU, orthopedic, or skin.': 222, 'He also is positive for gout.': 59, 'He denies chest pain, heart attack, coronary artery disease, congestive heart failure, arrhythmia, atrial fibrillation, pacemaker, pulmonary embolism, or CVA.': 190, 'He denies venous insufficiency or thrombophlebitis.': 62, 'Denies shortness of breath, COPD, or emphysema.': 163, 'Denies thyroid problems, hip pain, osteoarthritis, rheumatoid arthritis, GERD, hiatal hernia, peptic ulcer disease, gallstones, infected gallbladder, pancreatitis, fatty liver, hepatitis, rectal bleeding, polyps, incontinence of stool, urinary stress incontinence, or cancer.': 201, 'He denies cellulitis, pseudotumor cerebri, meningitis, or encephalitis.,PHYSICAL EXAMINATION:  ,He is alert and oriented x 3.': 183, 'Cranial nerves II-XII are intact.': 58, 'Neck is soft and supple.': 58, 'Lungs:  He has positive wheezing bilaterally.': 71, 'Heart is regular rhythm and rate.': 63, 'His abdomen is soft.': 56, 'Extremities:  He has 1+ pitting edema.,IMPRESSION/PLAN:,  I have explained to him the risks and potential complications of laparoscopic gastric bypass in detail and these include bleeding, infection, deep venous thrombosis, pulmonary embolism, leakage from the gastrojejuno-anastomosis, jejunojejuno-anastomosis, and possible bowel obstruction among other potential complications.': 209, 'He understands.': 54, 'He wants to proceed with workup and evaluation for laparoscopic Roux-en-Y gastric bypass.': 66, 'He will need to get a letter of approval from Dr. XYZ.': 72, 'He will need to see a nutritionist and mental health worker.': 64, 'He will need an upper endoscopy by either Dr. XYZ.': 69, 'He will need to go to Dr. XYZ as he previously had a sleep study.': 74, 'We will need another sleep study.': 65, 'He will need H. pylori testing, thyroid function tests, LFTs, glycosylated hemoglobin, and fasting blood sugar.': 176, 'After this is performed, we will submit him for insurance approval.': 160}\n"
     ]
    }
   ],
   "source": [
    "def get_sentence_value():\n",
    "    sentence_value = dict()\n",
    "    for sentence in sentences:\n",
    "        for word,freq in freq_count.items():\n",
    "            if word in sentence.lower():\n",
    "                if sentence in sentence_value:\n",
    "                    sentence_value[sentence] += freq \n",
    "                else:\n",
    "                    sentence_value[sentence] = freq \n",
    "    return sentence_value\n",
    "\n",
    "sentence_value = get_sentence_value()\n",
    "print(sentence_value)"
   ]
  },
  {
   "cell_type": "code",
   "execution_count": 12,
   "id": "e77a4298-bd02-4096-92a3-1357833e3c15",
   "metadata": {},
   "outputs": [
    {
     "name": "stdout",
     "output_type": "stream",
     "text": [
      "119\n"
     ]
    }
   ],
   "source": [
    "def get_sum_value():\n",
    "    sum_value = 0\n",
    "    for sentence in sentence_value:\n",
    "        sum_value += sentence_value[sentence]\n",
    "\n",
    "    average = int(sum_value / len(sentence_value))\n",
    "    return average \n",
    "average = get_sum_value()\n",
    "print(average)"
   ]
  },
  {
   "cell_type": "code",
   "execution_count": 13,
   "id": "363f4447-2a91-4627-826e-3cc68bde7fe8",
   "metadata": {},
   "outputs": [
    {
     "name": "stdout",
     "output_type": "stream",
     "text": [
      " He has been on multiple commercial weight loss programs including Slim Fast for one month one year ago and Atkin's Diet for one month two years ago.,PAST MEDICAL HISTORY: , He has difficulty climbing stairs, difficulty with airline seats, tying shoes, used to public seating, difficulty walking, high cholesterol, and high blood pressure. He smokes one and a half pack a day for 15 years, but he has recently stopped smoking for the past two weeks.,FAMILY HISTORY: , Obesity, heart disease, and diabetes. Family history is negative for hypertension and stroke.,CURRENT MEDICATIONS:,  Include Diovan, Crestor, and Tricor.,MISCELLANEOUS/EATING HISTORY:  ,He says a couple of friends of his have had heart attacks and have had died. If he lost 70% of his excess body weight that would be 129 pounds and that would get him down to 215.,REVIEW OF SYSTEMS: , Negative for head, neck, heart, lungs, GI, GU, orthopedic, or skin. Extremities:  He has 1+ pitting edema.,IMPRESSION/PLAN:,  I have explained to him the risks and potential complications of laparoscopic gastric bypass in detail and these include bleeding, infection, deep venous thrombosis, pulmonary embolism, leakage from the gastrojejuno-anastomosis, jejunojejuno-anastomosis, and possible bowel obstruction among other potential complications.\n"
     ]
    }
   ],
   "source": [
    "summary = ''\n",
    "for sentence in sentences:\n",
    "    if (sentence in sentence_value) and (sentence_value[sentence] > 1.7 * average):\n",
    "        summary += ' ' + sentence\n",
    "\n",
    "print(summary)"
   ]
  },
  {
   "cell_type": "code",
   "execution_count": 14,
   "id": "6be1dd78-75e4-46e0-bed2-c1f94551e23e",
   "metadata": {},
   "outputs": [
    {
     "data": {
      "text/html": [
       "<div>\n",
       "<style scoped>\n",
       "    .dataframe tbody tr th:only-of-type {\n",
       "        vertical-align: middle;\n",
       "    }\n",
       "\n",
       "    .dataframe tbody tr th {\n",
       "        vertical-align: top;\n",
       "    }\n",
       "\n",
       "    .dataframe thead th {\n",
       "        text-align: right;\n",
       "    }\n",
       "</style>\n",
       "<table border=\"1\" class=\"dataframe\">\n",
       "  <thead>\n",
       "    <tr style=\"text-align: right;\">\n",
       "      <th></th>\n",
       "      <th>Unnamed: 0</th>\n",
       "      <th>description</th>\n",
       "      <th>medical_specialty</th>\n",
       "      <th>sample_name</th>\n",
       "      <th>transcription</th>\n",
       "      <th>keywords</th>\n",
       "    </tr>\n",
       "  </thead>\n",
       "  <tbody>\n",
       "    <tr>\n",
       "      <th>0</th>\n",
       "      <td>0</td>\n",
       "      <td>A 23-year-old white female presents with comp...</td>\n",
       "      <td>Allergy / Immunology</td>\n",
       "      <td>Allergic Rhinitis</td>\n",
       "      <td>SUBJECTIVE:,  This 23-year-old white female pr...</td>\n",
       "      <td>allergy / immunology, allergic rhinitis, aller...</td>\n",
       "    </tr>\n",
       "    <tr>\n",
       "      <th>1</th>\n",
       "      <td>1</td>\n",
       "      <td>Consult for laparoscopic gastric bypass.</td>\n",
       "      <td>Bariatrics</td>\n",
       "      <td>Laparoscopic Gastric Bypass Consult - 2</td>\n",
       "      <td>PAST MEDICAL HISTORY:, He has difficulty climb...</td>\n",
       "      <td>bariatrics, laparoscopic gastric bypass, weigh...</td>\n",
       "    </tr>\n",
       "    <tr>\n",
       "      <th>2</th>\n",
       "      <td>2</td>\n",
       "      <td>Consult for laparoscopic gastric bypass.</td>\n",
       "      <td>Bariatrics</td>\n",
       "      <td>Laparoscopic Gastric Bypass Consult - 1</td>\n",
       "      <td>HISTORY OF PRESENT ILLNESS: , I have seen ABC ...</td>\n",
       "      <td>bariatrics, laparoscopic gastric bypass, heart...</td>\n",
       "    </tr>\n",
       "    <tr>\n",
       "      <th>3</th>\n",
       "      <td>3</td>\n",
       "      <td>2-D M-Mode. Doppler.</td>\n",
       "      <td>Cardiovascular / Pulmonary</td>\n",
       "      <td>2-D Echocardiogram - 1</td>\n",
       "      <td>2-D M-MODE: , ,1.  Left atrial enlargement wit...</td>\n",
       "      <td>cardiovascular / pulmonary, 2-d m-mode, dopple...</td>\n",
       "    </tr>\n",
       "    <tr>\n",
       "      <th>4</th>\n",
       "      <td>4</td>\n",
       "      <td>2-D Echocardiogram</td>\n",
       "      <td>Cardiovascular / Pulmonary</td>\n",
       "      <td>2-D Echocardiogram - 2</td>\n",
       "      <td>1.  The left ventricular cavity size and wall ...</td>\n",
       "      <td>cardiovascular / pulmonary, 2-d, doppler, echo...</td>\n",
       "    </tr>\n",
       "  </tbody>\n",
       "</table>\n",
       "</div>"
      ],
      "text/plain": [
       "   Unnamed: 0                                        description  \\\n",
       "0           0   A 23-year-old white female presents with comp...   \n",
       "1           1           Consult for laparoscopic gastric bypass.   \n",
       "2           2           Consult for laparoscopic gastric bypass.   \n",
       "3           3                             2-D M-Mode. Doppler.     \n",
       "4           4                                 2-D Echocardiogram   \n",
       "\n",
       "             medical_specialty                                sample_name  \\\n",
       "0         Allergy / Immunology                         Allergic Rhinitis    \n",
       "1                   Bariatrics   Laparoscopic Gastric Bypass Consult - 2    \n",
       "2                   Bariatrics   Laparoscopic Gastric Bypass Consult - 1    \n",
       "3   Cardiovascular / Pulmonary                    2-D Echocardiogram - 1    \n",
       "4   Cardiovascular / Pulmonary                    2-D Echocardiogram - 2    \n",
       "\n",
       "                                       transcription  \\\n",
       "0  SUBJECTIVE:,  This 23-year-old white female pr...   \n",
       "1  PAST MEDICAL HISTORY:, He has difficulty climb...   \n",
       "2  HISTORY OF PRESENT ILLNESS: , I have seen ABC ...   \n",
       "3  2-D M-MODE: , ,1.  Left atrial enlargement wit...   \n",
       "4  1.  The left ventricular cavity size and wall ...   \n",
       "\n",
       "                                            keywords  \n",
       "0  allergy / immunology, allergic rhinitis, aller...  \n",
       "1  bariatrics, laparoscopic gastric bypass, weigh...  \n",
       "2  bariatrics, laparoscopic gastric bypass, heart...  \n",
       "3  cardiovascular / pulmonary, 2-d m-mode, dopple...  \n",
       "4  cardiovascular / pulmonary, 2-d, doppler, echo...  "
      ]
     },
     "execution_count": 14,
     "metadata": {},
     "output_type": "execute_result"
    }
   ],
   "source": [
    "df.head()"
   ]
  },
  {
   "cell_type": "code",
   "execution_count": 15,
   "id": "f545ecfe-ca90-4296-9c3a-141077e07cae",
   "metadata": {},
   "outputs": [
    {
     "data": {
      "text/plain": [
       "Unnamed: 0              0\n",
       "description             0\n",
       "medical_specialty       0\n",
       "sample_name             0\n",
       "transcription          33\n",
       "keywords             1068\n",
       "dtype: int64"
      ]
     },
     "execution_count": 15,
     "metadata": {},
     "output_type": "execute_result"
    }
   ],
   "source": [
    "df.isnull().sum()"
   ]
  },
  {
   "cell_type": "code",
   "execution_count": 16,
   "id": "c4c62845-6153-427d-8385-b82710b907f6",
   "metadata": {},
   "outputs": [
    {
     "data": {
      "text/plain": [
       "Unnamed: 0              0\n",
       "description             0\n",
       "medical_specialty       0\n",
       "sample_name             0\n",
       "transcription           0\n",
       "keywords             1068\n",
       "dtype: int64"
      ]
     },
     "execution_count": 16,
     "metadata": {},
     "output_type": "execute_result"
    }
   ],
   "source": [
    "\n",
    "df = df.dropna(subset=['transcription'])\n",
    "df.isnull().sum()"
   ]
  },
  {
   "cell_type": "code",
   "execution_count": 17,
   "id": "78e86dc9-d9fb-4b2c-bb16-8478a9f1510e",
   "metadata": {},
   "outputs": [
    {
     "data": {
      "text/plain": [
       "' A 23-year-old white female presents with complaint of allergies.'"
      ]
     },
     "execution_count": 17,
     "metadata": {},
     "output_type": "execute_result"
    }
   ],
   "source": [
    "df.description[0]"
   ]
  },
  {
   "cell_type": "code",
   "execution_count": 18,
   "id": "a5d7b8de-1b65-47ce-98ce-8a41f96c3cd6",
   "metadata": {},
   "outputs": [
    {
     "data": {
      "text/plain": [
       "'SUBJECTIVE:,  This 23-year-old white female presents with complaint of allergies.  She used to have allergies when she lived in Seattle but she thinks they are worse here.  In the past, she has tried Claritin, and Zyrtec.  Both worked for short time but then seemed to lose effectiveness.  She has used Allegra also.  She used that last summer and she began using it again two weeks ago.  It does not appear to be working very well.  She has used over-the-counter sprays but no prescription nasal sprays.  She does have asthma but doest not require daily medication for this and does not think it is flaring up.,MEDICATIONS: , Her only medication currently is Ortho Tri-Cyclen and the Allegra.,ALLERGIES: , She has no known medicine allergies.,OBJECTIVE:,Vitals:  Weight was 130 pounds and blood pressure 124/78.,HEENT:  Her throat was mildly erythematous without exudate.  Nasal mucosa was erythematous and swollen.  Only clear drainage was seen.  TMs were clear.,Neck:  Supple without adenopathy.,Lungs:  Clear.,ASSESSMENT:,  Allergic rhinitis.,PLAN:,1.  She will try Zyrtec instead of Allegra again.  Another option will be to use loratadine.  She does not think she has prescription coverage so that might be cheaper.,2.  Samples of Nasonex two sprays in each nostril given for three weeks.  A prescription was written as well.'"
      ]
     },
     "execution_count": 18,
     "metadata": {},
     "output_type": "execute_result"
    }
   ],
   "source": [
    "df.transcription[0]"
   ]
  },
  {
   "cell_type": "code",
   "execution_count": 19,
   "id": "a6e85558-0963-449f-8b37-1591fee2e0ed",
   "metadata": {},
   "outputs": [
    {
     "data": {
      "text/plain": [
       "array([' Allergy / Immunology', ' Bariatrics',\n",
       "       ' Cardiovascular / Pulmonary', ' Neurology', ' Dentistry',\n",
       "       ' Urology', ' General Medicine', ' Surgery', ' Speech - Language',\n",
       "       ' SOAP / Chart / Progress Notes', ' Sleep Medicine',\n",
       "       ' Rheumatology', ' Radiology', ' Psychiatry / Psychology',\n",
       "       ' Podiatry', ' Physical Medicine - Rehab',\n",
       "       ' Pediatrics - Neonatal', ' Pain Management', ' Orthopedic',\n",
       "       ' Ophthalmology', ' Office Notes', ' Obstetrics / Gynecology',\n",
       "       ' Neurosurgery', ' Nephrology', ' Letters',\n",
       "       ' Lab Medicine - Pathology', ' IME-QME-Work Comp etc.',\n",
       "       ' Hospice - Palliative Care', ' Hematology - Oncology',\n",
       "       ' Gastroenterology', ' ENT - Otolaryngology', ' Endocrinology',\n",
       "       ' Emergency Room Reports', ' Discharge Summary',\n",
       "       ' Diets and Nutritions', ' Dermatology',\n",
       "       ' Cosmetic / Plastic Surgery', ' Consult - History and Phy.',\n",
       "       ' Chiropractic', ' Autopsy'], dtype=object)"
      ]
     },
     "execution_count": 19,
     "metadata": {},
     "output_type": "execute_result"
    }
   ],
   "source": [
    "df.medical_specialty.unique()"
   ]
  },
  {
   "cell_type": "code",
   "execution_count": 20,
   "id": "b1f6dbe7-d52b-4086-a8ed-e4348166a1b0",
   "metadata": {},
   "outputs": [
    {
     "data": {
      "text/plain": [
       "40"
      ]
     },
     "execution_count": 20,
     "metadata": {},
     "output_type": "execute_result"
    }
   ],
   "source": [
    "len(df.medical_specialty.unique())"
   ]
  },
  {
   "cell_type": "code",
   "execution_count": 21,
   "id": "e58977d1-2f59-448f-be56-aa2a066dc32a",
   "metadata": {},
   "outputs": [
    {
     "data": {
      "text/plain": [
       "0       0\n",
       "1       1\n",
       "2       1\n",
       "3       2\n",
       "4       2\n",
       "       ..\n",
       "4994    0\n",
       "4995    0\n",
       "4996    0\n",
       "4997    0\n",
       "4998    0\n",
       "Name: medical_specialty_code, Length: 4966, dtype: int64"
      ]
     },
     "execution_count": 21,
     "metadata": {},
     "output_type": "execute_result"
    }
   ],
   "source": [
    "df['medical_specialty_code'] = pd.factorize(df['medical_specialty'])[0]\n",
    "df['medical_specialty_code']"
   ]
  },
  {
   "cell_type": "code",
   "execution_count": 22,
   "id": "905cf6d8-3661-4723-9714-bc4b9a1fafa0",
   "metadata": {},
   "outputs": [],
   "source": [
    "from sklearn import preprocessing\n",
    "le = preprocessing.LabelEncoder()\n",
    "df['Label'] = le.fit_transform(df['medical_specialty'])"
   ]
  },
  {
   "cell_type": "code",
   "execution_count": 23,
   "id": "701b03f5-0d44-45dd-952f-567af3598da5",
   "metadata": {},
   "outputs": [
    {
     "data": {
      "text/html": [
       "<div>\n",
       "<style scoped>\n",
       "    .dataframe tbody tr th:only-of-type {\n",
       "        vertical-align: middle;\n",
       "    }\n",
       "\n",
       "    .dataframe tbody tr th {\n",
       "        vertical-align: top;\n",
       "    }\n",
       "\n",
       "    .dataframe thead th {\n",
       "        text-align: right;\n",
       "    }\n",
       "</style>\n",
       "<table border=\"1\" class=\"dataframe\">\n",
       "  <thead>\n",
       "    <tr style=\"text-align: right;\">\n",
       "      <th></th>\n",
       "      <th>Unnamed: 0</th>\n",
       "      <th>description</th>\n",
       "      <th>medical_specialty</th>\n",
       "      <th>sample_name</th>\n",
       "      <th>transcription</th>\n",
       "      <th>keywords</th>\n",
       "      <th>medical_specialty_code</th>\n",
       "    </tr>\n",
       "  </thead>\n",
       "  <tbody>\n",
       "    <tr>\n",
       "      <th>0</th>\n",
       "      <td>0</td>\n",
       "      <td>A 23-year-old white female presents with comp...</td>\n",
       "      <td>Allergy / Immunology</td>\n",
       "      <td>Allergic Rhinitis</td>\n",
       "      <td>SUBJECTIVE:,  This 23-year-old white female pr...</td>\n",
       "      <td>allergy / immunology, allergic rhinitis, aller...</td>\n",
       "      <td>0</td>\n",
       "    </tr>\n",
       "    <tr>\n",
       "      <th>1</th>\n",
       "      <td>1</td>\n",
       "      <td>Consult for laparoscopic gastric bypass.</td>\n",
       "      <td>Bariatrics</td>\n",
       "      <td>Laparoscopic Gastric Bypass Consult - 2</td>\n",
       "      <td>PAST MEDICAL HISTORY:, He has difficulty climb...</td>\n",
       "      <td>bariatrics, laparoscopic gastric bypass, weigh...</td>\n",
       "      <td>1</td>\n",
       "    </tr>\n",
       "    <tr>\n",
       "      <th>2</th>\n",
       "      <td>2</td>\n",
       "      <td>Consult for laparoscopic gastric bypass.</td>\n",
       "      <td>Bariatrics</td>\n",
       "      <td>Laparoscopic Gastric Bypass Consult - 1</td>\n",
       "      <td>HISTORY OF PRESENT ILLNESS: , I have seen ABC ...</td>\n",
       "      <td>bariatrics, laparoscopic gastric bypass, heart...</td>\n",
       "      <td>1</td>\n",
       "    </tr>\n",
       "    <tr>\n",
       "      <th>3</th>\n",
       "      <td>3</td>\n",
       "      <td>2-D M-Mode. Doppler.</td>\n",
       "      <td>Cardiovascular / Pulmonary</td>\n",
       "      <td>2-D Echocardiogram - 1</td>\n",
       "      <td>2-D M-MODE: , ,1.  Left atrial enlargement wit...</td>\n",
       "      <td>cardiovascular / pulmonary, 2-d m-mode, dopple...</td>\n",
       "      <td>2</td>\n",
       "    </tr>\n",
       "    <tr>\n",
       "      <th>4</th>\n",
       "      <td>4</td>\n",
       "      <td>2-D Echocardiogram</td>\n",
       "      <td>Cardiovascular / Pulmonary</td>\n",
       "      <td>2-D Echocardiogram - 2</td>\n",
       "      <td>1.  The left ventricular cavity size and wall ...</td>\n",
       "      <td>cardiovascular / pulmonary, 2-d, doppler, echo...</td>\n",
       "      <td>2</td>\n",
       "    </tr>\n",
       "    <tr>\n",
       "      <th>...</th>\n",
       "      <td>...</td>\n",
       "      <td>...</td>\n",
       "      <td>...</td>\n",
       "      <td>...</td>\n",
       "      <td>...</td>\n",
       "      <td>...</td>\n",
       "      <td>...</td>\n",
       "    </tr>\n",
       "    <tr>\n",
       "      <th>4994</th>\n",
       "      <td>4994</td>\n",
       "      <td>Patient having severe sinusitis about two to ...</td>\n",
       "      <td>Allergy / Immunology</td>\n",
       "      <td>Chronic Sinusitis</td>\n",
       "      <td>HISTORY:,  I had the pleasure of meeting and e...</td>\n",
       "      <td>NaN</td>\n",
       "      <td>0</td>\n",
       "    </tr>\n",
       "    <tr>\n",
       "      <th>4995</th>\n",
       "      <td>4995</td>\n",
       "      <td>This is a 14-month-old baby boy Caucasian who...</td>\n",
       "      <td>Allergy / Immunology</td>\n",
       "      <td>Kawasaki Disease - Discharge Summary</td>\n",
       "      <td>ADMITTING DIAGNOSIS: , Kawasaki disease.,DISCH...</td>\n",
       "      <td>allergy / immunology, mucous membranes, conjun...</td>\n",
       "      <td>0</td>\n",
       "    </tr>\n",
       "    <tr>\n",
       "      <th>4996</th>\n",
       "      <td>4996</td>\n",
       "      <td>A female for a complete physical and follow u...</td>\n",
       "      <td>Allergy / Immunology</td>\n",
       "      <td>Followup on Asthma</td>\n",
       "      <td>SUBJECTIVE: , This is a 42-year-old white fema...</td>\n",
       "      <td>NaN</td>\n",
       "      <td>0</td>\n",
       "    </tr>\n",
       "    <tr>\n",
       "      <th>4997</th>\n",
       "      <td>4997</td>\n",
       "      <td>Mother states he has been wheezing and coughing.</td>\n",
       "      <td>Allergy / Immunology</td>\n",
       "      <td>Asthma in a 5-year-old</td>\n",
       "      <td>CHIEF COMPLAINT: , This 5-year-old male presen...</td>\n",
       "      <td>NaN</td>\n",
       "      <td>0</td>\n",
       "    </tr>\n",
       "    <tr>\n",
       "      <th>4998</th>\n",
       "      <td>4998</td>\n",
       "      <td>Acute allergic reaction, etiology uncertain, ...</td>\n",
       "      <td>Allergy / Immunology</td>\n",
       "      <td>Allergy Evaluation Consult</td>\n",
       "      <td>HISTORY: , A 34-year-old male presents today s...</td>\n",
       "      <td>NaN</td>\n",
       "      <td>0</td>\n",
       "    </tr>\n",
       "  </tbody>\n",
       "</table>\n",
       "<p>4966 rows × 7 columns</p>\n",
       "</div>"
      ],
      "text/plain": [
       "      Unnamed: 0                                        description  \\\n",
       "0              0   A 23-year-old white female presents with comp...   \n",
       "1              1           Consult for laparoscopic gastric bypass.   \n",
       "2              2           Consult for laparoscopic gastric bypass.   \n",
       "3              3                             2-D M-Mode. Doppler.     \n",
       "4              4                                 2-D Echocardiogram   \n",
       "...          ...                                                ...   \n",
       "4994        4994   Patient having severe sinusitis about two to ...   \n",
       "4995        4995   This is a 14-month-old baby boy Caucasian who...   \n",
       "4996        4996   A female for a complete physical and follow u...   \n",
       "4997        4997   Mother states he has been wheezing and coughing.   \n",
       "4998        4998   Acute allergic reaction, etiology uncertain, ...   \n",
       "\n",
       "                medical_specialty                                sample_name  \\\n",
       "0            Allergy / Immunology                         Allergic Rhinitis    \n",
       "1                      Bariatrics   Laparoscopic Gastric Bypass Consult - 2    \n",
       "2                      Bariatrics   Laparoscopic Gastric Bypass Consult - 1    \n",
       "3      Cardiovascular / Pulmonary                    2-D Echocardiogram - 1    \n",
       "4      Cardiovascular / Pulmonary                    2-D Echocardiogram - 2    \n",
       "...                           ...                                        ...   \n",
       "4994         Allergy / Immunology                         Chronic Sinusitis    \n",
       "4995         Allergy / Immunology      Kawasaki Disease - Discharge Summary    \n",
       "4996         Allergy / Immunology                        Followup on Asthma    \n",
       "4997         Allergy / Immunology                    Asthma in a 5-year-old    \n",
       "4998         Allergy / Immunology                Allergy Evaluation Consult    \n",
       "\n",
       "                                          transcription  \\\n",
       "0     SUBJECTIVE:,  This 23-year-old white female pr...   \n",
       "1     PAST MEDICAL HISTORY:, He has difficulty climb...   \n",
       "2     HISTORY OF PRESENT ILLNESS: , I have seen ABC ...   \n",
       "3     2-D M-MODE: , ,1.  Left atrial enlargement wit...   \n",
       "4     1.  The left ventricular cavity size and wall ...   \n",
       "...                                                 ...   \n",
       "4994  HISTORY:,  I had the pleasure of meeting and e...   \n",
       "4995  ADMITTING DIAGNOSIS: , Kawasaki disease.,DISCH...   \n",
       "4996  SUBJECTIVE: , This is a 42-year-old white fema...   \n",
       "4997  CHIEF COMPLAINT: , This 5-year-old male presen...   \n",
       "4998  HISTORY: , A 34-year-old male presents today s...   \n",
       "\n",
       "                                               keywords  \\\n",
       "0     allergy / immunology, allergic rhinitis, aller...   \n",
       "1     bariatrics, laparoscopic gastric bypass, weigh...   \n",
       "2     bariatrics, laparoscopic gastric bypass, heart...   \n",
       "3     cardiovascular / pulmonary, 2-d m-mode, dopple...   \n",
       "4     cardiovascular / pulmonary, 2-d, doppler, echo...   \n",
       "...                                                 ...   \n",
       "4994                                                NaN   \n",
       "4995  allergy / immunology, mucous membranes, conjun...   \n",
       "4996                                                NaN   \n",
       "4997                                                NaN   \n",
       "4998                                                NaN   \n",
       "\n",
       "      medical_specialty_code  \n",
       "0                          0  \n",
       "1                          1  \n",
       "2                          1  \n",
       "3                          2  \n",
       "4                          2  \n",
       "...                      ...  \n",
       "4994                       0  \n",
       "4995                       0  \n",
       "4996                       0  \n",
       "4997                       0  \n",
       "4998                       0  \n",
       "\n",
       "[4966 rows x 7 columns]"
      ]
     },
     "execution_count": 23,
     "metadata": {},
     "output_type": "execute_result"
    }
   ],
   "source": [
    "df.drop('Label',axis=1,inplace=True)\n",
    "df"
   ]
  },
  {
   "cell_type": "code",
   "execution_count": 24,
   "id": "3c32f81d-3e74-46a0-8812-6a7069efc6ce",
   "metadata": {},
   "outputs": [
    {
     "data": {
      "text/plain": [
       "5"
      ]
     },
     "execution_count": 24,
     "metadata": {},
     "output_type": "execute_result"
    }
   ],
   "source": [
    "val = df.loc[30,'medical_specialty_code']\n",
    "val"
   ]
  },
  {
   "cell_type": "code",
   "execution_count": 25,
   "id": "c39650ec-8381-470f-824c-3c8fce9e7f39",
   "metadata": {},
   "outputs": [
    {
     "data": {
      "text/plain": [
       "Unnamed: 0                                                                5\n",
       "description                Morbid obesity.  Laparoscopic antecolic anteg...\n",
       "medical_specialty                                                Bariatrics\n",
       "sample_name                                    Laparoscopic Gastric Bypass \n",
       "transcription             PREOPERATIVE DIAGNOSIS: , Morbid obesity.,POST...\n",
       "keywords                  bariatrics, gastric bypass, eea anastomosis, r...\n",
       "medical_specialty_code                                                    1\n",
       "Name: 5, dtype: object"
      ]
     },
     "execution_count": 25,
     "metadata": {},
     "output_type": "execute_result"
    }
   ],
   "source": [
    "df.iloc[val]"
   ]
  },
  {
   "cell_type": "code",
   "execution_count": 26,
   "id": "2fd84a4a-8841-421e-8e53-51422ab95447",
   "metadata": {},
   "outputs": [
    {
     "data": {
      "text/plain": [
       "dtype('int64')"
      ]
     },
     "execution_count": 26,
     "metadata": {},
     "output_type": "execute_result"
    }
   ],
   "source": [
    "df.medical_specialty_code.dtypes"
   ]
  },
  {
   "cell_type": "code",
   "execution_count": 27,
   "id": "351f4643-23c1-498d-8070-0f1793bad887",
   "metadata": {},
   "outputs": [
    {
     "data": {
      "image/png": "[encoded data removed]",
      "text/plain": [
       "<Figure size 2000x1000 with 1 Axes>"
      ]
     },
     "metadata": {},
     "output_type": "display_data"
    }
   ],
   "source": [
    "#check the balance in class\n",
    "counts = df.medical_specialty.value_counts()\n",
    "\n",
    "plt.figure(figsize=(20, 10)) \n",
    "counts.plot(kind='bar', color='skyblue', edgecolor='black')\n",
    "plt.title('Medical Specialty Counts')\n",
    "plt.xlabel('Medical Specialty')\n",
    "plt.ylabel('Count')\n",
    "plt.xticks(rotation=90)\n",
    "plt.tight_layout()\n",
    "plt.show()"
   ]
  },
  {
   "cell_type": "code",
   "execution_count": 28,
   "id": "e23f6a4b-1f7a-445a-bf6a-7f4ac8f6b89a",
   "metadata": {},
   "outputs": [],
   "source": [
    "df=df[['transcription','medical_specialty_code']]"
   ]
  },
  {
   "cell_type": "code",
   "execution_count": 29,
   "id": "10d455bd-a5fa-4dfa-ad51-a41d0541f54a",
   "metadata": {},
   "outputs": [
    {
     "data": {
      "text/html": [
       "<div>\n",
       "<style scoped>\n",
       "    .dataframe tbody tr th:only-of-type {\n",
       "        vertical-align: middle;\n",
       "    }\n",
       "\n",
       "    .dataframe tbody tr th {\n",
       "        vertical-align: top;\n",
       "    }\n",
       "\n",
       "    .dataframe thead th {\n",
       "        text-align: right;\n",
       "    }\n",
       "</style>\n",
       "<table border=\"1\" class=\"dataframe\">\n",
       "  <thead>\n",
       "    <tr style=\"text-align: right;\">\n",
       "      <th></th>\n",
       "      <th>transcription</th>\n",
       "      <th>medical_specialty_code</th>\n",
       "    </tr>\n",
       "  </thead>\n",
       "  <tbody>\n",
       "    <tr>\n",
       "      <th>0</th>\n",
       "      <td>SUBJECTIVE:,  This 23-year-old white female pr...</td>\n",
       "      <td>0</td>\n",
       "    </tr>\n",
       "    <tr>\n",
       "      <th>1</th>\n",
       "      <td>PAST MEDICAL HISTORY:, He has difficulty climb...</td>\n",
       "      <td>1</td>\n",
       "    </tr>\n",
       "    <tr>\n",
       "      <th>2</th>\n",
       "      <td>HISTORY OF PRESENT ILLNESS: , I have seen ABC ...</td>\n",
       "      <td>1</td>\n",
       "    </tr>\n",
       "    <tr>\n",
       "      <th>3</th>\n",
       "      <td>2-D M-MODE: , ,1.  Left atrial enlargement wit...</td>\n",
       "      <td>2</td>\n",
       "    </tr>\n",
       "    <tr>\n",
       "      <th>4</th>\n",
       "      <td>1.  The left ventricular cavity size and wall ...</td>\n",
       "      <td>2</td>\n",
       "    </tr>\n",
       "    <tr>\n",
       "      <th>...</th>\n",
       "      <td>...</td>\n",
       "      <td>...</td>\n",
       "    </tr>\n",
       "    <tr>\n",
       "      <th>4994</th>\n",
       "      <td>HISTORY:,  I had the pleasure of meeting and e...</td>\n",
       "      <td>0</td>\n",
       "    </tr>\n",
       "    <tr>\n",
       "      <th>4995</th>\n",
       "      <td>ADMITTING DIAGNOSIS: , Kawasaki disease.,DISCH...</td>\n",
       "      <td>0</td>\n",
       "    </tr>\n",
       "    <tr>\n",
       "      <th>4996</th>\n",
       "      <td>SUBJECTIVE: , This is a 42-year-old white fema...</td>\n",
       "      <td>0</td>\n",
       "    </tr>\n",
       "    <tr>\n",
       "      <th>4997</th>\n",
       "      <td>CHIEF COMPLAINT: , This 5-year-old male presen...</td>\n",
       "      <td>0</td>\n",
       "    </tr>\n",
       "    <tr>\n",
       "      <th>4998</th>\n",
       "      <td>HISTORY: , A 34-year-old male presents today s...</td>\n",
       "      <td>0</td>\n",
       "    </tr>\n",
       "  </tbody>\n",
       "</table>\n",
       "<p>4966 rows × 2 columns</p>\n",
       "</div>"
      ],
      "text/plain": [
       "                                          transcription  \\\n",
       "0     SUBJECTIVE:,  This 23-year-old white female pr...   \n",
       "1     PAST MEDICAL HISTORY:, He has difficulty climb...   \n",
       "2     HISTORY OF PRESENT ILLNESS: , I have seen ABC ...   \n",
       "3     2-D M-MODE: , ,1.  Left atrial enlargement wit...   \n",
       "4     1.  The left ventricular cavity size and wall ...   \n",
       "...                                                 ...   \n",
       "4994  HISTORY:,  I had the pleasure of meeting and e...   \n",
       "4995  ADMITTING DIAGNOSIS: , Kawasaki disease.,DISCH...   \n",
       "4996  SUBJECTIVE: , This is a 42-year-old white fema...   \n",
       "4997  CHIEF COMPLAINT: , This 5-year-old male presen...   \n",
       "4998  HISTORY: , A 34-year-old male presents today s...   \n",
       "\n",
       "      medical_specialty_code  \n",
       "0                          0  \n",
       "1                          1  \n",
       "2                          1  \n",
       "3                          2  \n",
       "4                          2  \n",
       "...                      ...  \n",
       "4994                       0  \n",
       "4995                       0  \n",
       "4996                       0  \n",
       "4997                       0  \n",
       "4998                       0  \n",
       "\n",
       "[4966 rows x 2 columns]"
      ]
     },
     "execution_count": 29,
     "metadata": {},
     "output_type": "execute_result"
    }
   ],
   "source": [
    "df"
   ]
  },
  {
   "cell_type": "code",
   "execution_count": 30,
   "id": "1373c2d7-727f-472a-a2b4-fd3bedf1ac90",
   "metadata": {},
   "outputs": [
    {
     "data": {
      "text/plain": [
       "device(type='cpu')"
      ]
     },
     "execution_count": 30,
     "metadata": {},
     "output_type": "execute_result"
    }
   ],
   "source": [
    "device = torch.device(\"cuda\" if torch.cuda.is_available() else \"cpu\")\n",
    "device"
   ]
  },
  {
   "cell_type": "code",
   "execution_count": 31,
   "id": "eb7404c0-c4ad-486e-8ce9-b2c820cfbf6f",
   "metadata": {},
   "outputs": [
    {
     "name": "stderr",
     "output_type": "stream",
     "text": [
      "C:\\Users\\akhil\\AppData\\Local\\Programs\\Python\\Python312\\Lib\\site-packages\\huggingface_hub\\file_download.py:1132: FutureWarning: `resume_download` is deprecated and will be removed in version 1.0.0. Downloads always resume when possible. If you want to force a new download, use `force_download=True`.\n",
      "  warnings.warn(\n",
      "Some weights of RobertaModel were not initialized from the model checkpoint at roberta-base and are newly initialized: ['roberta.pooler.dense.bias', 'roberta.pooler.dense.weight']\n",
      "You should probably TRAIN this model on a down-stream task to be able to use it for predictions and inference.\n"
     ]
    }
   ],
   "source": [
    "from transformers import RobertaModel, RobertaTokenizer\n",
    "import torch\n",
    "\n",
    "# define X and y\n",
    "X = df['transcription'].tolist()\n",
    "y = df['medical_specialty_code'].tolist()\n",
    "\n",
    "tokenizer = RobertaTokenizer.from_pretrained('roberta-base')\n",
    "model = RobertaModel.from_pretrained('roberta-base').to(device)\n",
    "\n",
    "# Tokenize X\n",
    "inputs = tokenizer(X, padding=True, truncation=True, return_tensors=\"pt\", max_length=256)\n",
    "\n",
    "# generate embeddings in batches\n",
    "def generate_embeddings(model, inputs, batch_size=16):\n",
    "    model.eval()\n",
    "    embeddings = []\n",
    "    for i in range(0, inputs['input_ids'].size(0), batch_size):\n",
    "        batch_input_ids = inputs['input_ids'][i:i+batch_size].to(device)\n",
    "        batch_attention_mask = inputs['attention_mask'][i:i+batch_size].to(device)\n",
    "        with torch.no_grad():\n",
    "            # batch_outputs = model(batch_input_ids, attention_mask=batch_attention_mask)\n",
    "            # batch_embeddings = batch_outputs.last_hidden_state.mean(dim=1)\n",
    "            batch_outputs = model(batch_input_ids, attention_mask=batch_attention_mask)\n",
    "            batch_embeddings = batch_outputs.last_hidden_state.mean(dim=1)\n",
    "            embeddings.append(batch_embeddings.cpu().numpy())\n",
    "    embeddings = np.concatenate(embeddings, axis=0)\n",
    "    return embeddings\n",
    "\n",
    "# Generate embeddings\n",
    "embeddings = generate_embeddings(model, inputs, batch_size=16)"
   ]
  },
  {
   "cell_type": "code",
   "execution_count": 32,
   "id": "499e642a-8397-47f6-8457-34208ad74b94",
   "metadata": {},
   "outputs": [
    {
     "name": "stdout",
     "output_type": "stream",
     "text": [
      "Requirement already satisfied: imbalanced-learn in c:\\users\\akhil\\appdata\\local\\programs\\python\\python312\\lib\\site-packages (0.12.2)\n",
      "Requirement already satisfied: numpy>=1.17.3 in c:\\users\\akhil\\appdata\\local\\programs\\python\\python312\\lib\\site-packages (from imbalanced-learn) (1.26.4)\n",
      "Requirement already satisfied: scipy>=1.5.0 in c:\\users\\akhil\\appdata\\local\\programs\\python\\python312\\lib\\site-packages (from imbalanced-learn) (1.12.0)\n",
      "Requirement already satisfied: scikit-learn>=1.0.2 in c:\\users\\akhil\\appdata\\local\\programs\\python\\python312\\lib\\site-packages (from imbalanced-learn) (1.4.1.post1)\n",
      "Requirement already satisfied: joblib>=1.1.1 in c:\\users\\akhil\\appdata\\local\\programs\\python\\python312\\lib\\site-packages (from imbalanced-learn) (1.3.2)\n",
      "Requirement already satisfied: threadpoolctl>=2.0.0 in c:\\users\\akhil\\appdata\\local\\programs\\python\\python312\\lib\\site-packages (from imbalanced-learn) (3.3.0)\n",
      "Note: you may need to restart the kernel to use updated packages.\n"
     ]
    }
   ],
   "source": [
    "pip install imbalanced-learn"
   ]
  },
  {
   "cell_type": "code",
   "execution_count": 33,
   "id": "37d33326-1667-4f7c-a580-29863c1fb388",
   "metadata": {},
   "outputs": [],
   "source": [
    "# apply oversampling\n",
    "from imblearn.over_sampling import RandomOverSampler\n",
    "ros = RandomOverSampler(random_state=42)\n",
    "embeddings_resampled, labels_resampled = ros.fit_resample(embeddings, y)"
   ]
  },
  {
   "cell_type": "code",
   "execution_count": 34,
   "id": "4fa2d710-0239-4838-90a8-63576f632649",
   "metadata": {},
   "outputs": [],
   "source": [
    "# train test val split\n",
    "from sklearn.model_selection import train_test_split\n",
    "X_train, X_test, y_train, y_test = train_test_split(embeddings_resampled, labels_resampled, test_size=0.2, random_state=42)\n",
    "X_train, X_val, y_train, y_val = train_test_split(X_train, y_train, test_size=0.25, random_state=42)\n",
    "\n",
    "from torch import nn, optim\n",
    "import torch.nn.functional as F\n",
    "\n",
    "# MLP classifier\n",
    "class SimpleClassifier(nn.Module):\n",
    "    def __init__(self, input_dim, hidden_dim, num_classes):\n",
    "        super(SimpleClassifier, self).__init__()\n",
    "        self.fc1 = nn.Linear(input_dim, hidden_dim)\n",
    "        self.fc2 = nn.Linear(hidden_dim, hidden_dim)\n",
    "        self.fc3 = nn.Linear(hidden_dim, num_classes)\n",
    "\n",
    "    def forward(self, x):\n",
    "        x = F.relu(self.fc1(x))\n",
    "        x = F.relu(self.fc2(x))\n",
    "        x = self.fc3(x)\n",
    "        return x\n",
    "\n",
    "# Initialize the classifier, loss criterion, and optimizer\n",
    "hidden_dim = 128\n",
    "num_classes = 40\n",
    "mlp_model = SimpleClassifier(input_dim=768, hidden_dim=hidden_dim, num_classes=num_classes).to(device)\n",
    "criterion = nn.CrossEntropyLoss()\n",
    "optimizer = optim.Adam(mlp_model.parameters(), lr=0.001)\n",
    "\n",
    "# Prepare data loaders\n",
    "from torch.utils.data import DataLoader, TensorDataset\n",
    "batch_size = 8\n",
    "train_data = TensorDataset(torch.tensor(X_train, dtype=torch.float32).to(device), torch.tensor(y_train, dtype=torch.long).to(device))\n",
    "val_data = TensorDataset(torch.tensor(X_val, dtype=torch.float32).to(device), torch.tensor(y_val, dtype=torch.long).to(device))\n",
    "train_loader = DataLoader(train_data, batch_size=batch_size)\n",
    "val_loader = DataLoader(val_data, batch_size=batch_size)"
   ]
  },
  {
   "cell_type": "code",
   "execution_count": 35,
   "id": "5e68a0c1-dc22-473a-a43c-d85f09ec0262",
   "metadata": {},
   "outputs": [
    {
     "name": "stdout",
     "output_type": "stream",
     "text": [
      "Epoch 1, Training Loss: 1.8747, Validation Loss: 1.1897\n",
      "Epoch 2, Training Loss: 1.0670, Validation Loss: 0.9215\n",
      "Epoch 3, Training Loss: 0.8927, Validation Loss: 0.8126\n",
      "Epoch 4, Training Loss: 0.8025, Validation Loss: 0.7679\n",
      "Epoch 5, Training Loss: 0.7445, Validation Loss: 0.7300\n",
      "Epoch 6, Training Loss: 0.7040, Validation Loss: 0.6998\n",
      "Epoch 7, Training Loss: 0.6742, Validation Loss: 0.6922\n",
      "Epoch 8, Training Loss: 0.6491, Validation Loss: 0.6966\n",
      "Epoch 9, Training Loss: 0.6282, Validation Loss: 0.6981\n",
      "Epoch 10, Training Loss: 0.6134, Validation Loss: 0.6793\n",
      "Epoch 11, Training Loss: 0.6000, Validation Loss: 0.6630\n",
      "Epoch 12, Training Loss: 0.5866, Validation Loss: 0.6719\n",
      "Epoch 13, Training Loss: 0.5775, Validation Loss: 0.6506\n",
      "Epoch 14, Training Loss: 0.5693, Validation Loss: 0.6580\n",
      "Epoch 15, Training Loss: 0.5604, Validation Loss: 0.6526\n",
      "Epoch 16, Training Loss: 0.5539, Validation Loss: 0.6580\n",
      "Epoch 17, Training Loss: 0.5476, Validation Loss: 0.6512\n",
      "Epoch 18, Training Loss: 0.5424, Validation Loss: 0.6740\n",
      "Epoch 19, Training Loss: 0.5367, Validation Loss: 0.6657\n",
      "Epoch 20, Training Loss: 0.5322, Validation Loss: 0.6748\n",
      "Epoch 21, Training Loss: 0.5269, Validation Loss: 0.7035\n",
      "Epoch 22, Training Loss: 0.5190, Validation Loss: 0.6832\n",
      "Epoch 23, Training Loss: 0.5197, Validation Loss: 0.7055\n",
      "Epoch 24, Training Loss: 0.5146, Validation Loss: 0.6762\n",
      "Epoch 25, Training Loss: 0.5113, Validation Loss: 0.6651\n",
      "Epoch 26, Training Loss: 0.5093, Validation Loss: 0.6693\n",
      "Epoch 27, Training Loss: 0.5025, Validation Loss: 0.6982\n",
      "Epoch 28, Training Loss: 0.4984, Validation Loss: 0.6824\n",
      "Epoch 29, Training Loss: 0.4956, Validation Loss: 0.6942\n",
      "Epoch 30, Training Loss: 0.4937, Validation Loss: 0.7116\n"
     ]
    }
   ],
   "source": [
    "# Training loop\n",
    "best_val_loss = float('inf')\n",
    "best_model_state = None\n",
    "\n",
    "epochs = 30\n",
    "for epoch in range(epochs):\n",
    "    mlp_model.train()\n",
    "    train_loss = 0\n",
    "    for inputs, labels in train_loader:\n",
    "        optimizer.zero_grad()\n",
    "        outputs = mlp_model(inputs)\n",
    "        loss = criterion(outputs, labels)\n",
    "        loss.backward()\n",
    "        optimizer.step()\n",
    "        train_loss += loss.item()\n",
    "    train_loss /= len(train_loader)\n",
    "\n",
    "    # Validation for loss\n",
    "    mlp_model.eval()\n",
    "    val_loss = 0\n",
    "    with torch.no_grad():\n",
    "        for inputs, labels in val_loader:\n",
    "            outputs = mlp_model(inputs)\n",
    "            loss = criterion(outputs, labels)\n",
    "            val_loss += loss.item()\n",
    "    val_loss /= len(val_loader)\n",
    "\n",
    "    print(f'Epoch {epoch+1}, Training Loss: {train_loss:.4f}, Validation Loss: {val_loss:.4f}')\n",
    "\n",
    "    # Check if it's the lowest validation loss\n",
    "    if val_loss < best_val_loss:\n",
    "        best_val_loss = val_loss\n",
    "        best_model_state = mlp_model.state_dict()"
   ]
  },
  {
   "cell_type": "code",
   "execution_count": 36,
   "id": "e92ef1ae-d007-4df4-8b62-c890b93a1379",
   "metadata": {},
   "outputs": [],
   "source": [
    "# Save the best model\n",
    "torch.save(best_model_state, 'simple_classifier.pth')\n",
    "\n",
    "# Clear memory\n",
    "del inputs, labels, outputs, train_data, val_data, train_loader, val_loader\n",
    "torch.cuda.empty_cache()"
   ]
  },
  {
   "cell_type": "code",
   "execution_count": 37,
   "id": "a5f65204-5f43-45d4-b2bc-af55405d5000",
   "metadata": {},
   "outputs": [
    {
     "name": "stdout",
     "output_type": "stream",
     "text": [
      "Classification Report on Test Set (Using Loaded Model):\n",
      "              precision    recall  f1-score   support\n",
      "\n",
      "           0       0.92      1.00      0.96       227\n",
      "           1       0.93      0.86      0.89       220\n",
      "           2       0.50      0.57      0.54       229\n",
      "           3       0.57      0.36      0.44       211\n",
      "           4       0.94      0.91      0.93       207\n",
      "           5       0.68      0.78      0.73       208\n",
      "           6       0.36      0.24      0.29       210\n",
      "           7       0.11      0.03      0.04       239\n",
      "           8       0.93      1.00      0.97       225\n",
      "           9       0.56      0.48      0.51       220\n",
      "          10       0.89      1.00      0.94       216\n",
      "          11       0.98      1.00      0.99       212\n",
      "          12       0.37      0.28      0.32       222\n",
      "          13       0.87      0.89      0.88       203\n",
      "          14       0.77      1.00      0.87       209\n",
      "          15       0.88      0.96      0.92       214\n",
      "          16       0.71      0.72      0.72       232\n",
      "          17       0.91      0.97      0.94       212\n",
      "          18       0.50      0.56      0.53       220\n",
      "          19       0.85      0.83      0.84       222\n",
      "          20       0.74      0.89      0.81       222\n",
      "          21       0.77      0.83      0.80       231\n",
      "          22       0.69      0.82      0.75       219\n",
      "          23       0.74      0.83      0.78       203\n",
      "          24       0.83      0.90      0.86       219\n",
      "          25       0.97      1.00      0.99       203\n",
      "          26       0.83      0.84      0.83       220\n",
      "          27       0.97      1.00      0.99       213\n",
      "          28       0.70      0.61      0.65       224\n",
      "          29       0.69      0.69      0.69       227\n",
      "          30       0.76      0.87      0.81       215\n",
      "          31       0.89      0.97      0.93       199\n",
      "          32       0.65      0.82      0.72       224\n",
      "          33       0.66      0.35      0.46       227\n",
      "          34       0.91      1.00      0.95       216\n",
      "          35       0.87      0.95      0.91       214\n",
      "          36       0.75      1.00      0.85       225\n",
      "          37       0.23      0.12      0.16       214\n",
      "          38       0.77      0.87      0.82       216\n",
      "          39       1.00      1.00      1.00       215\n",
      "\n",
      "    accuracy                           0.77      8704\n",
      "   macro avg       0.74      0.77      0.75      8704\n",
      "weighted avg       0.74      0.77      0.75      8704\n",
      "\n",
      "Macro Average F1 Score: 0.7497252248125139\n",
      "Weighted Average F1 Score: 0.7463607654939929\n"
     ]
    }
   ],
   "source": [
    "from sklearn.metrics import classification_report\n",
    "\n",
    "# initialize the loaded model\n",
    "loaded_model = SimpleClassifier(input_dim=768, hidden_dim=128, num_classes=40).to(device)\n",
    "\n",
    "# Load the saved model parameters\n",
    "loaded_model.load_state_dict(torch.load('simple_classifier.pth'))\n",
    "\n",
    "# Ensure the model is in evaluation mode\n",
    "loaded_model.eval()\n",
    "\n",
    "# Test dataset preparation\n",
    "test_data = TensorDataset(torch.tensor(X_test, dtype=torch.float32).to(device), torch.tensor(y_test, dtype=torch.long).to(device))\n",
    "test_loader = DataLoader(test_data, batch_size=8)\n",
    "\n",
    "# Evaluate on the test set using the loaded model\n",
    "test_preds, test_labels = [], []\n",
    "with torch.no_grad():\n",
    "    for inputs, labels in test_loader:\n",
    "        outputs = loaded_model(inputs)\n",
    "        preds = torch.argmax(outputs, dim=1)\n",
    "        test_preds.extend(preds.cpu().numpy())\n",
    "        test_labels.extend(labels.cpu().numpy())\n",
    "\n",
    "print(\"Classification Report on Test Set (Using Loaded Model):\")\n",
    "print(classification_report(test_labels, test_preds))\n",
    "report = classification_report(test_labels, test_preds, output_dict=True)\n",
    "macro_avg_f1 = report['macro avg']['f1-score']\n",
    "weighted_avg_f1 = report['weighted avg']['f1-score']\n",
    "print(f\"Macro Average F1 Score: {macro_avg_f1}\")\n",
    "print(f\"Weighted Average F1 Score: {weighted_avg_f1}\")"
   ]
  },
  {
   "cell_type": "code",
   "execution_count": null,
   "id": "a5376f58-e308-43cc-b207-a11362f0f082",
   "metadata": {},
   "outputs": [
    {
     "name": "stderr",
     "output_type": "stream",
     "text": [
      "C:\\Users\\akhil\\AppData\\Local\\Programs\\Python\\Python312\\Lib\\site-packages\\huggingface_hub\\file_download.py:1132: FutureWarning: `resume_download` is deprecated and will be removed in version 1.0.0. Downloads always resume when possible. If you want to force a new download, use `force_download=True`.\n",
      "  warnings.warn(\n",
      "Some weights of RobertaModel were not initialized from the model checkpoint at roberta-base and are newly initialized: ['roberta.pooler.dense.bias', 'roberta.pooler.dense.weight']\n",
      "You should probably TRAIN this model on a down-stream task to be able to use it for predictions and inference.\n"
     ]
    }
   ],
   "source": [
    "from transformers import RobertaModel, RobertaTokenizer\n",
    "import torch\n",
    "\n",
    "# define X and y\n",
    "X = df['transcription'].tolist()\n",
    "y = df['medical_specialty_code'].tolist()\n",
    "\n",
    "tokenizer = RobertaTokenizer.from_pretrained('roberta-base')\n",
    "model = RobertaModel.from_pretrained('roberta-base').to(device)\n",
    "\n",
    "# Tokenize X\n",
    "inputs = tokenizer(X, padding=True, truncation=True, return_tensors=\"pt\", max_length=256)\n",
    "\n",
    "# generate embeddings in batches\n",
    "def generate_embeddings(model, inputs, batch_size=16):\n",
    "    model.eval()\n",
    "    embeddings = []\n",
    "    for i in range(0, inputs['input_ids'].size(0), batch_size):\n",
    "        batch_input_ids = inputs['input_ids'][i:i+batch_size].to(device)\n",
    "        batch_attention_mask = inputs['attention_mask'][i:i+batch_size].to(device)\n",
    "        with torch.no_grad():\n",
    "            batch_outputs = model(batch_input_ids, attention_mask=batch_attention_mask)\n",
    "            batch_embeddings = batch_outputs.last_hidden_state.mean(dim=1)\n",
    "            embeddings.append(batch_embeddings.cpu().numpy())\n",
    "    embeddings = np.concatenate(embeddings, axis=0)\n",
    "    return embeddings\n",
    "\n",
    "# Generate embeddings\n",
    "embeddings = generate_embeddings(model, inputs, batch_size=16)"
   ]
  },
  {
   "cell_type": "code",
   "execution_count": null,
   "id": "1ee87455-ac49-44b6-b047-6b77c536b646",
   "metadata": {},
   "outputs": [],
   "source": []
  }
 ],
 "metadata": {
  "kernelspec": {
   "display_name": "Python 3 (ipykernel)",
   "language": "python",
   "name": "python3"
  },
  "language_info": {
   "codemirror_mode": {
    "name": "ipython",
    "version": 3
   },
   "file_extension": ".py",
   "mimetype": "text/x-python",
   "name": "python",
   "nbconvert_exporter": "python",
   "pygments_lexer": "ipython3",
   "version": "3.12.3"
  }
 },
 "nbformat": 4,
 "nbformat_minor": 5
}
